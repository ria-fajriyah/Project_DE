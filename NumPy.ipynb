{
 "cells": [
  {
   "cell_type": "markdown",
   "id": "e105b43f",
   "metadata": {},
   "source": [
    "# Komputasi Matematika dengan Pustaka Numpy"
   ]
  },
  {
   "cell_type": "code",
   "execution_count": 3,
   "id": "0d6b29f8",
   "metadata": {},
   "outputs": [
    {
     "data": {
      "text/plain": [
       "'1.21.5'"
      ]
     },
     "execution_count": 3,
     "metadata": {},
     "output_type": "execute_result"
    }
   ],
   "source": [
    "import numpy as np\n",
    "np.__version__"
   ]
  },
  {
   "cell_type": "markdown",
   "id": "7027a3fc",
   "metadata": {},
   "source": [
    "## Struktur Data Array"
   ]
  },
  {
   "cell_type": "markdown",
   "id": "8391f5fc",
   "metadata": {},
   "source": [
    "### Penggunaan Python List"
   ]
  },
  {
   "cell_type": "code",
   "execution_count": 4,
   "id": "dc5f765c",
   "metadata": {},
   "outputs": [],
   "source": [
    "gpas_as_list = [4.0, 3.2, 3.5]"
   ]
  },
  {
   "cell_type": "code",
   "execution_count": 5,
   "id": "d97bf12f",
   "metadata": {},
   "outputs": [
    {
     "data": {
      "text/plain": [
       "[4.0, 3.2, 3.5, 4.0]"
      ]
     },
     "execution_count": 5,
     "metadata": {},
     "output_type": "execute_result"
    }
   ],
   "source": [
    "gpas_as_list.append(4.0) #ditambahkan di akhir\n",
    "gpas_as_list"
   ]
  },
  {
   "cell_type": "code",
   "execution_count": 6,
   "id": "f257a2ed",
   "metadata": {},
   "outputs": [
    {
     "data": {
      "text/plain": [
       "[4.0, 'belum ada', 3.2, 3.5, 4.0]"
      ]
     },
     "execution_count": 6,
     "metadata": {},
     "output_type": "execute_result"
    }
   ],
   "source": [
    "gpas_as_list.insert(1, \"belum ada\") #ditambahkan di tengah \n",
    "gpas_as_list"
   ]
  },
  {
   "cell_type": "code",
   "execution_count": 7,
   "id": "14ebe47d",
   "metadata": {},
   "outputs": [
    {
     "data": {
      "text/plain": [
       "[4.0, 3.2, 3.5, 4.0]"
      ]
     },
     "execution_count": 7,
     "metadata": {},
     "output_type": "execute_result"
    }
   ],
   "source": [
    "gpas_as_list.pop(1) #menghapus data\n",
    "gpas_as_list"
   ]
  },
  {
   "cell_type": "markdown",
   "id": "cdb2f9bc",
   "metadata": {},
   "source": [
    "### Penggunaan NumPy Array"
   ]
  },
  {
   "cell_type": "code",
   "execution_count": 8,
   "id": "a91fc531",
   "metadata": {},
   "outputs": [],
   "source": [
    "gpas = np.array(gpas_as_list)"
   ]
  },
  {
   "cell_type": "code",
   "execution_count": 9,
   "id": "dd98d11a",
   "metadata": {},
   "outputs": [
    {
     "data": {
      "text/plain": [
       "dtype('float64')"
      ]
     },
     "execution_count": 9,
     "metadata": {},
     "output_type": "execute_result"
    }
   ],
   "source": [
    "gpas.dtype"
   ]
  },
  {
   "cell_type": "code",
   "execution_count": 10,
   "id": "ee1977fa",
   "metadata": {},
   "outputs": [
    {
     "data": {
      "text/plain": [
       "4"
      ]
     },
     "execution_count": 10,
     "metadata": {},
     "output_type": "execute_result"
    }
   ],
   "source": [
    "gpas.size"
   ]
  },
  {
   "cell_type": "markdown",
   "id": "99ca4e3a",
   "metadata": {},
   "source": [
    "## Organisasi Array"
   ]
  },
  {
   "cell_type": "markdown",
   "id": "b81ec875",
   "metadata": {},
   "source": [
    "### Indexing\n",
    "#### Study Log"
   ]
  },
  {
   "cell_type": "code",
   "execution_count": 11,
   "id": "9e09011e",
   "metadata": {},
   "outputs": [
    {
     "data": {
      "text/plain": [
       "array([0, 0, 0, 0, 0, 0, 0, 0, 0, 0, 0, 0, 0, 0, 0, 0, 0, 0, 0, 0, 0, 0,\n",
       "       0, 0, 0, 0, 0, 0, 0, 0, 0, 0, 0, 0, 0, 0, 0, 0, 0, 0, 0, 0, 0, 0,\n",
       "       0, 0, 0, 0, 0, 0, 0, 0, 0, 0, 0, 0, 0, 0, 0, 0, 0, 0, 0, 0, 0, 0,\n",
       "       0, 0, 0, 0, 0, 0, 0, 0, 0, 0, 0, 0, 0, 0, 0, 0, 0, 0, 0, 0, 0, 0,\n",
       "       0, 0, 0, 0, 0, 0, 0, 0, 0, 0, 0, 0], dtype=uint16)"
      ]
     },
     "execution_count": 11,
     "metadata": {},
     "output_type": "execute_result"
    }
   ],
   "source": [
    "study_minutes = np.zeros(100,np.uint16)\n",
    "study_minutes "
   ]
  },
  {
   "cell_type": "code",
   "execution_count": 12,
   "id": "0cfd54ef",
   "metadata": {},
   "outputs": [
    {
     "name": "stdout",
     "output_type": "stream",
     "text": [
      "Variable             Type       Data/Info\n",
      "-----------------------------------------\n",
      "autopep8             module     <module 'autopep8' from '<...>e-packages\\\\autopep8.py'>\n",
      "gpas                 ndarray    4: 4 elems, type `float64`, 32 bytes\n",
      "gpas_as_list         list       n=4\n",
      "json                 module     <module 'json' from 'C:\\\\<...>\\lib\\\\json\\\\__init__.py'>\n",
      "np                   module     <module 'numpy' from 'C:\\<...>ges\\\\numpy\\\\__init__.py'>\n",
      "practice_list        list       n=3\n",
      "practice_list_copy   list       n=3\n",
      "study_minutes        ndarray    100: 100 elems, type `uint16`, 200 bytes\n"
     ]
    }
   ],
   "source": [
    "%whos"
   ]
  },
  {
   "cell_type": "markdown",
   "id": "324da1f8",
   "metadata": {},
   "source": [
    "### Array Multidimensi"
   ]
  },
  {
   "cell_type": "code",
   "execution_count": 13,
   "id": "1232b97a",
   "metadata": {},
   "outputs": [
    {
     "data": {
      "text/plain": [
       "array([[4.  , 3.3 , 3.5 , 4.  ],\n",
       "       [3.96, 3.92, 4.  , 4.  ],\n",
       "       [3.2 , 3.8 , 4.  , 4.  ]], dtype=float16)"
      ]
     },
     "execution_count": 13,
     "metadata": {},
     "output_type": "execute_result"
    }
   ],
   "source": [
    "students_gpas = np.array([\n",
    "    [4.0, 3.3, 3.5, 4.0],\n",
    "    [3.96, 3.92, 4.0, 4.0],\n",
    "    [3.2, 3.8, 4.0, 4.0]\n",
    "], np.float16)\n",
    "students_gpas"
   ]
  },
  {
   "cell_type": "code",
   "execution_count": 14,
   "id": "8fd1335e",
   "metadata": {},
   "outputs": [
    {
     "data": {
      "text/plain": [
       "2"
      ]
     },
     "execution_count": 14,
     "metadata": {},
     "output_type": "execute_result"
    }
   ],
   "source": [
    "students_gpas.ndim"
   ]
  },
  {
   "cell_type": "code",
   "execution_count": 15,
   "id": "915526fb",
   "metadata": {},
   "outputs": [
    {
     "data": {
      "text/plain": [
       "(3, 4)"
      ]
     },
     "execution_count": 15,
     "metadata": {},
     "output_type": "execute_result"
    }
   ],
   "source": [
    "students_gpas.shape #ukuran array"
   ]
  },
  {
   "cell_type": "code",
   "execution_count": 16,
   "id": "1a54a006",
   "metadata": {},
   "outputs": [
    {
     "data": {
      "text/plain": [
       "array([3.2, 3.8, 4. , 4. ], dtype=float16)"
      ]
     },
     "execution_count": 16,
     "metadata": {},
     "output_type": "execute_result"
    }
   ],
   "source": [
    "students_gpas[2]"
   ]
  },
  {
   "cell_type": "code",
   "execution_count": 17,
   "id": "f9a305cb",
   "metadata": {},
   "outputs": [
    {
     "data": {
      "text/plain": [
       "4.0"
      ]
     },
     "execution_count": 17,
     "metadata": {},
     "output_type": "execute_result"
    }
   ],
   "source": [
    "students_gpas[2][3]"
   ]
  },
  {
   "cell_type": "markdown",
   "id": "880fc754",
   "metadata": {},
   "source": [
    "### Study Log Multidimensi"
   ]
  },
  {
   "cell_type": "code",
   "execution_count": 18,
   "id": "0d4d4dd7",
   "metadata": {},
   "outputs": [
    {
     "data": {
      "text/plain": [
       "(2, 100)"
      ]
     },
     "execution_count": 18,
     "metadata": {},
     "output_type": "execute_result"
    }
   ],
   "source": [
    "study_minutes = np.array([\n",
    "    study_minutes,\n",
    "    np.zeros(100, np.uint16)\n",
    "])\n",
    "study_minutes.shape"
   ]
  },
  {
   "cell_type": "code",
   "execution_count": 19,
   "id": "475e9f9a",
   "metadata": {},
   "outputs": [
    {
     "data": {
      "text/plain": [
       "array([[ 0,  0,  0,  0,  0,  0,  0,  0,  0,  0,  0,  0,  0,  0,  0,  0,\n",
       "         0,  0,  0,  0,  0,  0,  0,  0,  0,  0,  0,  0,  0,  0,  0,  0,\n",
       "         0,  0,  0,  0,  0,  0,  0,  0,  0,  0,  0,  0,  0,  0,  0,  0,\n",
       "         0,  0,  0,  0,  0,  0,  0,  0,  0,  0,  0,  0,  0,  0,  0,  0,\n",
       "         0,  0,  0,  0,  0,  0,  0,  0,  0,  0,  0,  0,  0,  0,  0,  0,\n",
       "         0,  0,  0,  0,  0,  0,  0,  0,  0,  0,  0,  0,  0,  0,  0,  0,\n",
       "         0,  0,  0,  0],\n",
       "       [60,  0,  0,  0,  0,  0,  0,  0,  0,  0,  0,  0,  0,  0,  0,  0,\n",
       "         0,  0,  0,  0,  0,  0,  0,  0,  0,  0,  0,  0,  0,  0,  0,  0,\n",
       "         0,  0,  0,  0,  0,  0,  0,  0,  0,  0,  0,  0,  0,  0,  0,  0,\n",
       "         0,  0,  0,  0,  0,  0,  0,  0,  0,  0,  0,  0,  0,  0,  0,  0,\n",
       "         0,  0,  0,  0,  0,  0,  0,  0,  0,  0,  0,  0,  0,  0,  0,  0,\n",
       "         0,  0,  0,  0,  0,  0,  0,  0,  0,  0,  0,  0,  0,  0,  0,  0,\n",
       "         0,  0,  0,  0]], dtype=uint16)"
      ]
     },
     "execution_count": 19,
     "metadata": {},
     "output_type": "execute_result"
    }
   ],
   "source": [
    "study_minutes[1][0] = 60\n",
    "study_minutes"
   ]
  },
  {
   "cell_type": "code",
   "execution_count": 20,
   "id": "9e1bc247",
   "metadata": {},
   "outputs": [
    {
     "data": {
      "text/plain": [
       "array([132, 122, 128,  44, 136, 129, 101,  95,  50, 132, 151,  64, 104,\n",
       "       175, 117, 146, 139, 129, 133, 176,  98, 160, 179,  99,  82, 142,\n",
       "        31, 106, 117,  56,  98,  67, 121, 159,  81, 170,  31,  50,  49,\n",
       "        87, 179,  51, 116, 177, 118,  78, 171, 117,  88, 123, 102,  44,\n",
       "        79,  31, 108,  80,  59, 137,  84,  93, 155, 160,  67,  80, 166,\n",
       "       164,  70,  50, 102, 113,  47, 131, 161, 118,  82,  89,  81,  43,\n",
       "        81,  38, 119,  52,  82,  31, 159,  57, 113,  71, 121, 140,  91,\n",
       "        70,  37, 106,  64, 127, 110,  58,  93,  79], dtype=uint16)"
      ]
     },
     "execution_count": 20,
     "metadata": {},
     "output_type": "execute_result"
    }
   ],
   "source": [
    "rand = np.random.RandomState(42)\n",
    "fake_log = rand.randint(30, 180, size=100, dtype=np.uint16) #rentang random 30-180\n",
    "fake_log"
   ]
  },
  {
   "cell_type": "code",
   "execution_count": 21,
   "id": "729f6fbf",
   "metadata": {},
   "outputs": [
    {
     "data": {
      "text/plain": [
       "[122, 160]"
      ]
     },
     "execution_count": 21,
     "metadata": {},
     "output_type": "execute_result"
    }
   ],
   "source": [
    "[fake_log[1], fake_log[21]]"
   ]
  },
  {
   "cell_type": "code",
   "execution_count": 22,
   "id": "2fd5a67c",
   "metadata": {},
   "outputs": [
    {
     "data": {
      "text/plain": [
       "array([122, 160], dtype=uint16)"
      ]
     },
     "execution_count": 22,
     "metadata": {},
     "output_type": "execute_result"
    }
   ],
   "source": [
    "fake_log[[1, 21]]"
   ]
  },
  {
   "cell_type": "code",
   "execution_count": 23,
   "id": "ea1eb474",
   "metadata": {},
   "outputs": [
    {
     "data": {
      "text/plain": [
       "array([[122, 160],\n",
       "       [122, 128]], dtype=uint16)"
      ]
     },
     "execution_count": 23,
     "metadata": {},
     "output_type": "execute_result"
    }
   ],
   "source": [
    "index = np.array([\n",
    "    [1, 21],\n",
    "    [1, 2]\n",
    "])\n",
    "fake_log[index]"
   ]
  },
  {
   "cell_type": "code",
   "execution_count": 24,
   "id": "f336eab4",
   "metadata": {},
   "outputs": [
    {
     "data": {
      "text/plain": [
       "array([  0,   0,   0,   0,   0,   0,   0,   0,   0,   0,   0,   0,   0,\n",
       "         0,   0,   0,   0,   0,   0,   0,   0,   0,   0,   0,   0,   0,\n",
       "         0,   0,   0,   0,   0,   0,   0,   0,   0,   0,   0,   0,   0,\n",
       "         0,   0,   0,   0,   0,   0,   0,   0,   0,   0,   0,   0,   0,\n",
       "         0,   0,   0,   0,   0,   0,   0,   0,   0,   0,   0,   0,   0,\n",
       "         0,   0,   0,   0,   0,   0,   0,   0,   0,   0,   0,   0,   0,\n",
       "         0,   0,   0,   0,   0,   0,   0,   0,   0,   0,   0,   0,   0,\n",
       "         0,   0,   0,   0,   0,   0,   0,   0,   0,  60,   0,   0,   0,\n",
       "         0,   0,   0,   0,   0,   0,   0,   0,   0,   0,   0,   0,   0,\n",
       "         0,   0,   0,   0,   0,   0,   0,   0,   0,   0,   0,   0,   0,\n",
       "         0,   0,   0,   0,   0,   0,   0,   0,   0,   0,   0,   0,   0,\n",
       "         0,   0,   0,   0,   0,   0,   0,   0,   0,   0,   0,   0,   0,\n",
       "         0,   0,   0,   0,   0,   0,   0,   0,   0,   0,   0,   0,   0,\n",
       "         0,   0,   0,   0,   0,   0,   0,   0,   0,   0,   0,   0,   0,\n",
       "         0,   0,   0,   0,   0,   0,   0,   0,   0,   0,   0,   0,   0,\n",
       "         0,   0,   0,   0,   0, 132, 122, 128,  44, 136, 129, 101,  95,\n",
       "        50, 132, 151,  64, 104, 175, 117, 146, 139, 129, 133, 176,  98,\n",
       "       160, 179,  99,  82, 142,  31, 106, 117,  56,  98,  67, 121, 159,\n",
       "        81, 170,  31,  50,  49,  87, 179,  51, 116, 177, 118,  78, 171,\n",
       "       117,  88, 123, 102,  44,  79,  31, 108,  80,  59, 137,  84,  93,\n",
       "       155, 160,  67,  80, 166, 164,  70,  50, 102, 113,  47, 131, 161,\n",
       "       118,  82,  89,  81,  43,  81,  38, 119,  52,  82,  31, 159,  57,\n",
       "       113,  71, 121, 140,  91,  70,  37, 106,  64, 127, 110,  58,  93,\n",
       "        79], dtype=uint16)"
      ]
     },
     "execution_count": 24,
     "metadata": {},
     "output_type": "execute_result"
    }
   ],
   "source": [
    "study_minutes = np.append(study_minutes, [fake_log])\n",
    "study_minutes"
   ]
  },
  {
   "cell_type": "markdown",
   "id": "77c8ce1e",
   "metadata": {},
   "source": [
    "### Filter Array dengan Kondisi\n",
    "#### Mencari durasi dibawah 1 jam (60 menit)"
   ]
  },
  {
   "cell_type": "code",
   "execution_count": 39,
   "id": "f445e33c",
   "metadata": {},
   "outputs": [
    {
     "data": {
      "text/plain": [
       "array([False, False, False,  True, False, False, False, False,  True,\n",
       "       False, False, False, False, False, False, False, False, False,\n",
       "       False, False, False, False, False, False, False, False,  True,\n",
       "       False, False,  True, False, False, False, False, False, False,\n",
       "        True,  True,  True, False, False,  True, False, False, False,\n",
       "       False, False, False, False, False, False,  True, False,  True,\n",
       "       False, False,  True, False, False, False, False, False, False,\n",
       "       False, False, False, False,  True, False, False,  True, False,\n",
       "       False, False, False, False, False,  True, False,  True, False,\n",
       "        True, False,  True, False,  True, False, False, False, False,\n",
       "       False, False,  True, False, False, False, False,  True, False,\n",
       "       False])"
      ]
     },
     "execution_count": 39,
     "metadata": {},
     "output_type": "execute_result"
    }
   ],
   "source": [
    "fake_log < 60"
   ]
  },
  {
   "cell_type": "code",
   "execution_count": 40,
   "id": "ae695534",
   "metadata": {},
   "outputs": [
    {
     "data": {
      "text/plain": [
       "array([44, 50, 31, 56, 31, 50, 49, 51, 44, 31, 59, 50, 47, 43, 38, 52, 31,\n",
       "       57, 37, 58], dtype=uint16)"
      ]
     },
     "execution_count": 40,
     "metadata": {},
     "output_type": "execute_result"
    }
   ],
   "source": [
    "fake_log[fake_log < 60]"
   ]
  },
  {
   "cell_type": "code",
   "execution_count": 42,
   "id": "431bc08a",
   "metadata": {},
   "outputs": [
    {
     "data": {
      "text/plain": [
       "array([44, 50, 31, 56, 31, 50, 49, 51, 44, 31, 59, 50, 47, 43, 38, 52, 31,\n",
       "       57, 37, 58], dtype=uint16)"
      ]
     },
     "execution_count": 42,
     "metadata": {},
     "output_type": "execute_result"
    }
   ],
   "source": [
    "#cara iteratif\n",
    "results = []\n",
    "for value in fake_log:\n",
    "    if value < 60:\n",
    "        results.append(value)\n",
    "np.array(results)        "
   ]
  },
  {
   "cell_type": "code",
   "execution_count": 43,
   "id": "a0176a79",
   "metadata": {},
   "outputs": [
    {
     "data": {
      "text/plain": [
       "array([  0,   0,   0,   0,   0,   0,   0,   0,   0,   0,   0,   0,   0,\n",
       "         0,   0,   0,   0,   0,   0,   0,   0,   0,   0,   0,   0,   0,\n",
       "         0,   0,   0,   0,   0,   0,   0,   0,   0,   0,   0,   0,   0,\n",
       "         0,   0,   0,   0,   0,   0,   0,   0,   0,   0,   0,   0,   0,\n",
       "         0,   0,   0,   0,   0,   0,   0,   0,   0,   0,   0,   0,   0,\n",
       "         0,   0,   0,   0,   0,   0,   0,   0,   0,   0,   0,   0,   0,\n",
       "         0,   0,   0,   0,   0,   0,   0,   0,   0,   0,   0,   0,   0,\n",
       "         0,   0,   0,   0,   0,   0,   0,   0,   0, 132, 122, 128,  44,\n",
       "       136, 129, 101,  95,  50, 132, 151,  64, 104, 175, 117, 146, 139,\n",
       "       129, 133, 176,  98, 160, 179,  99,  82, 142,  31, 106, 117,  56,\n",
       "        98,  67, 121, 159,  81, 170,  31,  50,  49,  87, 179,  51, 116,\n",
       "       177, 118,  78, 171, 117,  88, 123, 102,  44,  79,  31, 108,  80,\n",
       "        59, 137,  84,  93, 155, 160,  67,  80, 166, 164,  70,  50, 102,\n",
       "       113,  47, 131, 161, 118,  82,  89,  81,  43,  81,  38, 119,  52,\n",
       "        82,  31, 159,  57, 113,  71, 121, 140,  91,  70,  37, 106,  64,\n",
       "       127, 110,  58,  93,  79], dtype=uint16)"
      ]
     },
     "execution_count": 43,
     "metadata": {},
     "output_type": "execute_result"
    }
   ],
   "source": [
    "study_minutes = np.zeros(100, np.uint16)\n",
    "study_minutes = np.append(study_minutes, [fake_log])\n",
    "study_minutes"
   ]
  },
  {
   "cell_type": "code",
   "execution_count": 45,
   "id": "d5bdf715",
   "metadata": {},
   "outputs": [
    {
     "data": {
      "text/plain": [
       "array([ 0,  0,  0,  0,  0,  0,  0,  0,  0,  0,  0,  0,  0,  0,  0,  0,  0,\n",
       "        0,  0,  0,  0,  0,  0,  0,  0,  0,  0,  0,  0,  0,  0,  0,  0,  0,\n",
       "        0,  0,  0,  0,  0,  0,  0,  0,  0,  0,  0,  0,  0,  0,  0,  0,  0,\n",
       "        0,  0,  0,  0,  0,  0,  0,  0,  0,  0,  0,  0,  0,  0,  0,  0,  0,\n",
       "        0,  0,  0,  0,  0,  0,  0,  0,  0,  0,  0,  0,  0,  0,  0,  0,  0,\n",
       "        0,  0,  0,  0,  0,  0,  0,  0,  0,  0,  0,  0,  0,  0,  0, 44, 50,\n",
       "       31, 56, 31, 50, 49, 51, 44, 31, 59, 50, 47, 43, 38, 52, 31, 57, 37,\n",
       "       58], dtype=uint16)"
      ]
     },
     "execution_count": 45,
     "metadata": {},
     "output_type": "execute_result"
    }
   ],
   "source": [
    "study_minutes[study_minutes < 60]"
   ]
  },
  {
   "cell_type": "code",
   "execution_count": 46,
   "id": "fd4d3fb8",
   "metadata": {},
   "outputs": [
    {
     "data": {
      "text/plain": [
       "array([44, 50, 31, 56, 31, 50, 49, 51, 44, 31, 59, 50, 47, 43, 38, 52, 31,\n",
       "       57, 37, 58], dtype=uint16)"
      ]
     },
     "execution_count": 46,
     "metadata": {},
     "output_type": "execute_result"
    }
   ],
   "source": [
    "study_minutes[(study_minutes < 60) & (study_minutes > 0)]"
   ]
  },
  {
   "cell_type": "markdown",
   "id": "00686be1",
   "metadata": {},
   "source": [
    "### Slicing Array"
   ]
  },
  {
   "cell_type": "code",
   "execution_count": 25,
   "id": "79a11918",
   "metadata": {},
   "outputs": [
    {
     "data": {
      "text/plain": [
       "array([[ 0,  1,  2,  3,  4,  5],\n",
       "       [ 6,  7,  8,  9, 10, 11],\n",
       "       [12, 13, 14, 15, 16, 17],\n",
       "       [18, 19, 20, 21, 22, 23],\n",
       "       [24, 25, 26, 27, 28, 29],\n",
       "       [30, 31, 32, 33, 34, 35],\n",
       "       [36, 37, 38, 39, 40, 41]])"
      ]
     },
     "execution_count": 25,
     "metadata": {},
     "output_type": "execute_result"
    }
   ],
   "source": [
    "practice = np.arange(42)\n",
    "practice.shape = (7, 6)\n",
    "practice"
   ]
  },
  {
   "cell_type": "code",
   "execution_count": 26,
   "id": "5663dc5a",
   "metadata": {},
   "outputs": [
    {
     "data": {
      "text/plain": [
       "13"
      ]
     },
     "execution_count": 26,
     "metadata": {},
     "output_type": "execute_result"
    }
   ],
   "source": [
    "practice[2, 1]"
   ]
  },
  {
   "cell_type": "code",
   "execution_count": 27,
   "id": "297166a8",
   "metadata": {},
   "outputs": [
    {
     "data": {
      "text/plain": [
       "array([[12, 13, 14, 15, 16, 17],\n",
       "       [18, 19, 20, 21, 22, 23],\n",
       "       [24, 25, 26, 27, 28, 29]])"
      ]
     },
     "execution_count": 27,
     "metadata": {},
     "output_type": "execute_result"
    }
   ],
   "source": [
    "practice[2:5]"
   ]
  },
  {
   "cell_type": "code",
   "execution_count": 28,
   "id": "9e2632a8",
   "metadata": {},
   "outputs": [
    {
     "data": {
      "text/plain": [
       "array([15, 21, 27])"
      ]
     },
     "execution_count": 28,
     "metadata": {},
     "output_type": "execute_result"
    }
   ],
   "source": [
    "practice[2:5, 3]"
   ]
  },
  {
   "cell_type": "code",
   "execution_count": 29,
   "id": "871b290d",
   "metadata": {},
   "outputs": [
    {
     "data": {
      "text/plain": [
       "array([[15, 16, 17],\n",
       "       [21, 22, 23],\n",
       "       [27, 28, 29]])"
      ]
     },
     "execution_count": 29,
     "metadata": {},
     "output_type": "execute_result"
    }
   ],
   "source": [
    "practice[2:5, 3:]"
   ]
  },
  {
   "cell_type": "markdown",
   "id": "07538986",
   "metadata": {},
   "source": [
    "### Copy vs View"
   ]
  },
  {
   "cell_type": "code",
   "execution_count": 30,
   "id": "2097fc2f",
   "metadata": {},
   "outputs": [
    {
     "data": {
      "text/plain": [
       "([1, 2, 3], [1, 2, 3])"
      ]
     },
     "execution_count": 30,
     "metadata": {},
     "output_type": "execute_result"
    }
   ],
   "source": [
    "practice_list = [1,2,3]\n",
    "practice_list_copy = practice_list[:]\n",
    "practice_list, practice_list_copy"
   ]
  },
  {
   "cell_type": "code",
   "execution_count": 31,
   "id": "f4ab1972",
   "metadata": {},
   "outputs": [
    {
     "data": {
      "text/plain": [
       "([1, 2, 3], [12345, 2, 3])"
      ]
     },
     "execution_count": 31,
     "metadata": {},
     "output_type": "execute_result"
    }
   ],
   "source": [
    "practice_list_copy[0] = 12345\n",
    "practice_list, practice_list_copy"
   ]
  },
  {
   "cell_type": "code",
   "execution_count": 32,
   "id": "439a9267",
   "metadata": {},
   "outputs": [
    {
     "data": {
      "text/plain": [
       "(array([[12345,     1,     2,     3,     4,     5],\n",
       "        [    6,     7,     8,     9,    10,    11],\n",
       "        [   12,    13,    14,    15,    16,    17],\n",
       "        [   18,    19,    20,    21,    22,    23],\n",
       "        [   24,    25,    26,    27,    28,    29],\n",
       "        [   30,    31,    32,    33,    34,    35],\n",
       "        [   36,    37,    38,    39,    40,    41]]),\n",
       " array([[12345,     1,     2,     3,     4,     5],\n",
       "        [    6,     7,     8,     9,    10,    11],\n",
       "        [   12,    13,    14,    15,    16,    17],\n",
       "        [   18,    19,    20,    21,    22,    23],\n",
       "        [   24,    25,    26,    27,    28,    29],\n",
       "        [   30,    31,    32,    33,    34,    35],\n",
       "        [   36,    37,    38,    39,    40,    41]]))"
      ]
     },
     "execution_count": 32,
     "metadata": {},
     "output_type": "execute_result"
    }
   ],
   "source": [
    "not_copied = practice[:]\n",
    "not_copied[0,0] = 12345\n",
    "practice, not_copied"
   ]
  },
  {
   "cell_type": "code",
   "execution_count": 33,
   "id": "1a308785",
   "metadata": {},
   "outputs": [
    {
     "name": "stdout",
     "output_type": "stream",
     "text": [
      "None\n"
     ]
    }
   ],
   "source": [
    "print(practice.base)"
   ]
  },
  {
   "cell_type": "code",
   "execution_count": 34,
   "id": "82c1b4ed",
   "metadata": {},
   "outputs": [
    {
     "name": "stdout",
     "output_type": "stream",
     "text": [
      "[[12345     1     2     3     4     5]\n",
      " [    6     7     8     9    10    11]\n",
      " [   12    13    14    15    16    17]\n",
      " [   18    19    20    21    22    23]\n",
      " [   24    25    26    27    28    29]\n",
      " [   30    31    32    33    34    35]\n",
      " [   36    37    38    39    40    41]]\n"
     ]
    }
   ],
   "source": [
    "print(not_copied.base)"
   ]
  },
  {
   "cell_type": "code",
   "execution_count": 35,
   "id": "9a3083c3",
   "metadata": {},
   "outputs": [
    {
     "data": {
      "text/plain": [
       "True"
      ]
     },
     "execution_count": 35,
     "metadata": {},
     "output_type": "execute_result"
    }
   ],
   "source": [
    "not_copied.base is practice"
   ]
  },
  {
   "cell_type": "code",
   "execution_count": 36,
   "id": "c6a016cd",
   "metadata": {},
   "outputs": [
    {
     "data": {
      "text/plain": [
       "False"
      ]
     },
     "execution_count": 36,
     "metadata": {},
     "output_type": "execute_result"
    }
   ],
   "source": [
    "not_copied.base is practice_list"
   ]
  },
  {
   "cell_type": "markdown",
   "id": "1f748417",
   "metadata": {},
   "source": [
    "## Visualisasi Data"
   ]
  },
  {
   "cell_type": "markdown",
   "id": "f5cb22b4",
   "metadata": {},
   "source": [
    "### Aljabar Linear"
   ]
  },
  {
   "cell_type": "code",
   "execution_count": 47,
   "id": "e36dfa4e",
   "metadata": {},
   "outputs": [
    {
     "data": {
      "text/plain": [
       "array([10000.,  2500.,  5000.,  3000.])"
      ]
     },
     "execution_count": 47,
     "metadata": {},
     "output_type": "execute_result"
    }
   ],
   "source": [
    "# harga per item dari nasi uduk, gorengan, kopi, lontong\n",
    "orders = np.array([\n",
    "    [2, 0, 0, 0],\n",
    "    [1, 0, 2, 4],\n",
    "    [1, 2, 1, 0],\n",
    "    [4, 6, 0, 2]\n",
    "])\n",
    "totals = np.array([20000, 32000, 20000, 61000])\n",
    "prices = np.linalg.solve(orders, totals)\n",
    "prices"
   ]
  },
  {
   "cell_type": "code",
   "execution_count": 51,
   "id": "a25bc794",
   "metadata": {},
   "outputs": [
    {
     "data": {
      "text/plain": [
       "array([20000., 32000., 20000., 61000.])"
      ]
     },
     "execution_count": 51,
     "metadata": {},
     "output_type": "execute_result"
    }
   ],
   "source": [
    "#total harga -> perkalian matriks\n",
    "orders @ prices"
   ]
  },
  {
   "cell_type": "markdown",
   "id": "9d9144f7",
   "metadata": {},
   "source": [
    "### Fungsi Universal"
   ]
  },
  {
   "cell_type": "code",
   "execution_count": 62,
   "id": "8983c583",
   "metadata": {},
   "outputs": [
    {
     "data": {
      "text/plain": [
       "(array([1, 2, 3, 4, 5]), array([ 6,  7,  8,  9, 10]))"
      ]
     },
     "execution_count": 62,
     "metadata": {},
     "output_type": "execute_result"
    }
   ],
   "source": [
    "a, b = np.split(np.arange(1,11),2)\n",
    "a, b"
   ]
  },
  {
   "cell_type": "code",
   "execution_count": 58,
   "id": "39ab9b08",
   "metadata": {},
   "outputs": [
    {
     "name": "stdout",
     "output_type": "stream",
     "text": [
      "[1 2 3 4 5]\n"
     ]
    }
   ],
   "source": [
    "print(a)"
   ]
  },
  {
   "cell_type": "code",
   "execution_count": 59,
   "id": "a12af726",
   "metadata": {},
   "outputs": [
    {
     "name": "stdout",
     "output_type": "stream",
     "text": [
      "[ 6  7  8  9 10]\n"
     ]
    }
   ],
   "source": [
    "print(b)"
   ]
  },
  {
   "cell_type": "code",
   "execution_count": 53,
   "id": "95ab9d8b",
   "metadata": {},
   "outputs": [
    {
     "data": {
      "text/plain": [
       "array([ 7,  9, 11, 13, 15])"
      ]
     },
     "execution_count": 53,
     "metadata": {},
     "output_type": "execute_result"
    }
   ],
   "source": [
    "a + b"
   ]
  },
  {
   "cell_type": "code",
   "execution_count": 54,
   "id": "2d532fd1",
   "metadata": {},
   "outputs": [
    {
     "data": {
      "text/plain": [
       "array([ 6, 14, 24, 36, 50])"
      ]
     },
     "execution_count": 54,
     "metadata": {},
     "output_type": "execute_result"
    }
   ],
   "source": [
    "a * b"
   ]
  },
  {
   "cell_type": "code",
   "execution_count": 55,
   "id": "209a3df4",
   "metadata": {},
   "outputs": [
    {
     "data": {
      "text/plain": [
       "array([-5, -5, -5, -5, -5])"
      ]
     },
     "execution_count": 55,
     "metadata": {},
     "output_type": "execute_result"
    }
   ],
   "source": [
    "a - b"
   ]
  },
  {
   "cell_type": "code",
   "execution_count": 61,
   "id": "45a412a7",
   "metadata": {},
   "outputs": [
    {
     "data": {
      "text/plain": [
       "array([5, 5, 5, 5, 5])"
      ]
     },
     "execution_count": 61,
     "metadata": {},
     "output_type": "execute_result"
    }
   ],
   "source": [
    "b - a"
   ]
  },
  {
   "cell_type": "code",
   "execution_count": 64,
   "id": "f0fedd79",
   "metadata": {},
   "outputs": [
    {
     "data": {
      "text/plain": [
       "array([4, 5, 6, 7, 8])"
      ]
     },
     "execution_count": 64,
     "metadata": {},
     "output_type": "execute_result"
    }
   ],
   "source": [
    "a + 3"
   ]
  },
  {
   "cell_type": "code",
   "execution_count": 65,
   "id": "2ef9045c",
   "metadata": {},
   "outputs": [
    {
     "data": {
      "text/plain": [
       "array([4, 5, 6, 7, 8])"
      ]
     },
     "execution_count": 65,
     "metadata": {},
     "output_type": "execute_result"
    }
   ],
   "source": [
    "a + np.repeat(3, 5)"
   ]
  },
  {
   "cell_type": "code",
   "execution_count": 66,
   "id": "0e3e54ba",
   "metadata": {},
   "outputs": [
    {
     "data": {
      "text/plain": [
       "(array([[0., 1., 2.],\n",
       "        [3., 4., 5.],\n",
       "        [6., 7., 8.]]),\n",
       " array([0., 1., 2.]))"
      ]
     },
     "execution_count": 66,
     "metadata": {},
     "output_type": "execute_result"
    }
   ],
   "source": [
    "x1 = np.arange(9.0).reshape(3, 3)\n",
    "x2 = np.arange(3.0)\n",
    "x1, x2"
   ]
  },
  {
   "cell_type": "code",
   "execution_count": 68,
   "id": "3d34c2c9",
   "metadata": {},
   "outputs": [
    {
     "data": {
      "text/plain": [
       "array([[ 0.,  2.,  4.],\n",
       "       [ 3.,  5.,  7.],\n",
       "       [ 6.,  8., 10.]])"
      ]
     },
     "execution_count": 68,
     "metadata": {},
     "output_type": "execute_result"
    }
   ],
   "source": [
    "np.add(x1, x2)"
   ]
  },
  {
   "cell_type": "code",
   "execution_count": 69,
   "id": "2b1ee60c",
   "metadata": {},
   "outputs": [
    {
     "data": {
      "text/plain": [
       "array([[ 2.,  3.,  4.],\n",
       "       [ 5.,  6.,  7.],\n",
       "       [ 8.,  9., 10.]])"
      ]
     },
     "execution_count": 69,
     "metadata": {},
     "output_type": "execute_result"
    }
   ],
   "source": [
    "np.add(x1, 2)"
   ]
  },
  {
   "cell_type": "markdown",
   "id": "cfa3a22f",
   "metadata": {},
   "source": [
    "### Array Programming"
   ]
  },
  {
   "cell_type": "code",
   "execution_count": 73,
   "id": "f2522e8d",
   "metadata": {},
   "outputs": [
    {
     "name": "stdout",
     "output_type": "stream",
     "text": [
      "[44 50 31 56 31 50 49 51 44 31 59 50 47 43 38 52 31 57 37 58]\n"
     ]
    }
   ],
   "source": [
    "study_less = study_minutes[(study_minutes < 60) & (study_minutes > 0)]\n",
    "print(study_less)"
   ]
  },
  {
   "cell_type": "code",
   "execution_count": 72,
   "id": "a51ba158",
   "metadata": {},
   "outputs": [
    {
     "data": {
      "text/plain": [
       "909"
      ]
     },
     "execution_count": 72,
     "metadata": {},
     "output_type": "execute_result"
    }
   ],
   "source": [
    "#jumlah dari study less\n",
    "np.add.reduce(study_less)"
   ]
  },
  {
   "cell_type": "code",
   "execution_count": 74,
   "id": "67086c2f",
   "metadata": {},
   "outputs": [
    {
     "data": {
      "text/plain": [
       "909"
      ]
     },
     "execution_count": 74,
     "metadata": {},
     "output_type": "execute_result"
    }
   ],
   "source": [
    "#cara lain untuk menjumlahkan\n",
    "np.sum(study_less)"
   ]
  },
  {
   "cell_type": "code",
   "execution_count": 75,
   "id": "7ae44fbf",
   "metadata": {},
   "outputs": [
    {
     "data": {
      "text/plain": [
       "10199"
      ]
     },
     "execution_count": 75,
     "metadata": {},
     "output_type": "execute_result"
    }
   ],
   "source": [
    "np.sum(study_minutes)"
   ]
  },
  {
   "cell_type": "markdown",
   "id": "ba67449c",
   "metadata": {},
   "source": [
    "## Visualisasi Data\n",
    "### MatPlotLib"
   ]
  },
  {
   "cell_type": "code",
   "execution_count": 77,
   "id": "8f801118",
   "metadata": {},
   "outputs": [],
   "source": [
    "import matplotlib.pyplot as plt"
   ]
  },
  {
   "cell_type": "code",
   "execution_count": 79,
   "id": "7626266c",
   "metadata": {},
   "outputs": [
    {
     "data": {
      "text/plain": [
       "array([132, 122, 128,  44, 136, 129, 101,  95,  50, 132, 151,  64, 104,\n",
       "       175, 117, 146, 139, 129, 133, 176,  98, 160, 179,  99,  82, 142,\n",
       "        31, 106, 117,  56,  98,  67, 121, 159,  81, 170,  31,  50,  49,\n",
       "        87, 179,  51, 116, 177, 118,  78, 171, 117,  88, 123, 102,  44,\n",
       "        79,  31, 108,  80,  59, 137,  84,  93, 155, 160,  67,  80, 166,\n",
       "       164,  70,  50, 102, 113,  47, 131, 161, 118,  82,  89,  81,  43,\n",
       "        81,  38, 119,  52,  82,  31, 159,  57, 113,  71, 121, 140,  91,\n",
       "        70,  37, 106,  64, 127, 110,  58,  93,  79], dtype=uint16)"
      ]
     },
     "execution_count": 79,
     "metadata": {},
     "output_type": "execute_result"
    }
   ],
   "source": [
    "study_minutes[study_minutes > 0]"
   ]
  },
  {
   "cell_type": "code",
   "execution_count": 81,
   "id": "e7c1efc7",
   "metadata": {},
   "outputs": [
    {
     "data": {
      "text/plain": [
       "[]"
      ]
     },
     "execution_count": 81,
     "metadata": {},
     "output_type": "execute_result"
    },
    {
     "data": {
      "image/png": "[encoded data removed]",
      "text/plain": [
       "<Figure size 640x480 with 1 Axes>"
      ]
     },
     "metadata": {},
     "output_type": "display_data"
    }
   ],
   "source": [
    "plt.hist(study_minutes[study_minutes > 0])\n",
    "plt.plot()"
   ]
  }
 ],
 "metadata": {
  "kernelspec": {
   "display_name": "Python 3 (ipykernel)",
   "language": "python",
   "name": "python3"
  },
  "language_info": {
   "codemirror_mode": {
    "name": "ipython",
    "version": 3
   },
   "file_extension": ".py",
   "mimetype": "text/x-python",
   "name": "python",
   "nbconvert_exporter": "python",
   "pygments_lexer": "ipython3",
   "version": "3.9.13"
  },
  "toc": {
   "base_numbering": 1,
   "nav_menu": {},
   "number_sections": false,
   "sideBar": true,
   "skip_h1_title": false,
   "title_cell": "Table of Contents",
   "title_sidebar": "Contents",
   "toc_cell": false,
   "toc_position": {
    "height": "565.6px",
    "left": "893px",
    "top": "110.525px",
    "width": "165px"
   },
   "toc_section_display": true,
   "toc_window_display": false
  }
 },
 "nbformat": 4,
 "nbformat_minor": 5
}
